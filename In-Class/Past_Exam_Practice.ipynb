{
 "cells": [
  {
   "cell_type": "markdown",
   "id": "6d685027",
   "metadata": {},
   "source": [
    "## Questions 1:   Write a Python  program:\n",
    "\n",
    "Given two vectors with 5 elements in Python as shown in an example below. Write a python function to calculate the dot product of any two vector. Note that you have to write program to iterate through the data. You cannot use existing library e.g., numpy library.\n",
    "\n",
    "Example:\n",
    "\n",
    "List1 = [15, 22, 3, 49, 16]\n",
    "\n",
    "List2 = [5,  2,  -1,  0, -5]\n",
    "\n",
    "The output in this example is 36.\n",
    "\n"
   ]
  },
  {
   "cell_type": "code",
   "execution_count": 1,
   "id": "87c5c24f",
   "metadata": {},
   "outputs": [
    {
     "name": "stdout",
     "output_type": "stream",
     "text": [
      "The dot product of two vector is : 36\n"
     ]
    }
   ],
   "source": [
    "list1 = [15, 22, 3, 49, 16]\n",
    "\n",
    "list2= [5, 2, -1, 0, -5]\n",
    "\n",
    "\n",
    "def dot_product(list1, list2):\n",
    "    \n",
    "    \"two list can do dot product only if they are in equal length\"\n",
    "    if len(list1) == len(list2):\n",
    "        \n",
    "        sum = 0 # initialize\n",
    "        for i in range(len(list1)):\n",
    "            sum += list1[i] * list2[i]\n",
    "        \n",
    "        print(\"The dot product of two vector is :\", sum)\n",
    "#         return sum \n",
    "    \n",
    "    else:\n",
    "        raise ValueError(\"The length of two vector are not equal\")\n",
    "        \n",
    "dot_product(list1, list2)"
   ]
  },
  {
   "cell_type": "code",
   "execution_count": 2,
   "id": "e5abd70f",
   "metadata": {},
   "outputs": [
    {
     "name": "stdout",
     "output_type": "stream",
     "text": [
      "36\n"
     ]
    }
   ],
   "source": [
    "# checking result with numpy\n",
    "import numpy as np\n",
    "\n",
    "l1 = np.array(list1)\n",
    "l2 = np.array(list2)\n",
    "print(np.dot(l1, l2))"
   ]
  },
  {
   "cell_type": "markdown",
   "id": "2c72c6a2",
   "metadata": {},
   "source": [
    "## Question 2: Please compute the feed forward and back propagation for one iteration. We assume that all node uses non-linear RELU functions \n",
    "\n",
    "Assume that the actual output is 1, calculate the backward propagation to modify all the weight values. Note that you can either compute manually or write the python program. Please write down the code if you decide to write python programing. At the end, you have to report the weight after 1 iteration of back propagation. (20 points)\n"
   ]
  },
  {
   "cell_type": "code",
   "execution_count": 3,
   "id": "8637bf36",
   "metadata": {},
   "outputs": [
    {
     "name": "stdout",
     "output_type": "stream",
     "text": [
      "layer 0 [[1 1]] shape (1, 2)\n",
      "layer 1 [[0.2 0.5 0.1]]\n",
      "layer 2 [[0.12 0.05]]\n",
      "output [[0.046]]\n",
      "delta output: [[-0.954]]\n",
      "layer 2 delta [[-0.2862 -0.1908]]\n",
      "layer 1 delta [[ 0.02862 -0.0954  -0.01908]]\n",
      "weight 2_3 [[0.41448]\n",
      " [0.2477 ]]\n",
      "weight 1_2 [[ 0.15724 -0.26184]\n",
      " [ 0.3431   0.2954 ]\n",
      " [ 0.02862  0.11908]]\n",
      "weight 0_1 [[ 0.07138  0.2954  -0.08092]\n",
      " [ 0.07138  0.3954   0.21908]]\n",
      "layer 0 [[1 1]] shape (1, 2)\n",
      "layer 1 [[0.14276 0.6908  0.13816]]\n",
      "layer 2 [[0.2634152  0.18313413]]\n",
      "output [[0.15454266]]\n",
      "delta output: [[-0.84545734]]\n",
      "layer 2 delta [[-0.35042516 -0.20941978]]\n",
      "layer 1 delta [[-0.00026638 -0.18209348 -0.03496688]]\n",
      "weight 2_3 [[0.63718632]\n",
      " [0.4025321 ]]\n",
      "weight 1_2 [[ 0.2072667  -0.23194323]\n",
      " [ 0.5851737   0.44006719]\n",
      " [ 0.07703474  0.14801344]]\n",
      "weight 0_1 [[ 0.07164638  0.47749348 -0.04595312]\n",
      " [ 0.07164638  0.57749348  0.25404688]]\n"
     ]
    }
   ],
   "source": [
    "import numpy as np\n",
    "\n",
    "input1 = np.array([[1, 1], [1, 1]])\n",
    "output1 = np.array([[1, 1]]).T\n",
    "alpha = 1\n",
    "hidden_size = 3\n",
    "\n",
    "weights_0_1 = np.array([[0.1, 0.2, -0.1], [0.1, 0.3, 0.2]])\n",
    "\n",
    "weights_1_2 = np.array([[0.1, -0.3], [0.2, 0.2], [0, 0.1]])\n",
    "\n",
    "weights_2_3 = np.array([[0.3], [0.2]])\n",
    "\n",
    "\n",
    "def relu(x):\n",
    "    return (x > 0) * x # reutrn x if x > 0 otherwise return 0\n",
    "\n",
    "def relu2derive(output):\n",
    "    return output > 0  # return 1 for input > 0 otherwise return 0\n",
    "\n",
    "for iteration in range(1):\n",
    "    output_error = 0\n",
    "    for i in range(len(input1)):\n",
    "        \n",
    "        layer_0 = input1[i:i+1]\n",
    "        print('layer 0', layer_0,'shape', layer_0.shape)\n",
    "        \n",
    "        layer_1 = relu(np.dot(layer_0, weights_0_1))\n",
    "        layer_2 = relu(np.dot(layer_1, weights_1_2))\n",
    "        output = np.dot(layer_2, weights_2_3)\n",
    "        \n",
    "        print('layer 1', layer_1)\n",
    "        print('layer 2', layer_2)\n",
    "        print('output', output)\n",
    "        \n",
    "        output_error += np.sum((output - output1[i:i+1])**2)\n",
    "        output_delta = (output - output1[i:i+1])\n",
    "        print('delta output:', output_delta)\n",
    "        \n",
    "        layer_2_delta = output_delta.dot(weights_2_3.T)*relu2derive(layer_2)\n",
    "        layer_1_delta = layer_2_delta.dot(weights_1_2.T)*relu2derive(layer_1)\n",
    "        \n",
    "        print('layer 2 delta', layer_2_delta)\n",
    "        print('layer 1 delta', layer_1_delta)\n",
    "        \n",
    "        weights_2_3 -= alpha * layer_2.T.dot(output_delta)\n",
    "        weights_1_2 -= alpha * layer_1.T.dot(layer_2_delta)\n",
    "        weights_0_1 -= alpha * layer_0.T.dot(layer_1_delta)\n",
    "        \n",
    "        print('weight 2_3', weights_2_3)\n",
    "        print('weight 1_2', weights_1_2)\n",
    "        print('weight 0_1', weights_0_1)"
   ]
  },
  {
   "cell_type": "markdown",
   "id": "94ea6731",
   "metadata": {},
   "source": [
    "## Question 3: Write an OpenCV program:  (20 points)\n",
    " \n",
    "Given 1,000 images, write an OpenCV program to perform augmentation using existing geometric transfer to generate another 5,000 images randomly. The random images must be either rotated between -30 and 30 degree (1000 images), or scale by the ratio 0.8 till 1.2 times (1000 images), or shear by two either in x or y direction (1000 images) or the combination (2000 images). Note that you cannot use existing Tensorflow/ Keras or other library function apart from OpenCV and standard Python for image augmentation.\n",
    "\n",
    "\n",
    "\n",
    "Given images - 1000 images\n",
    "\n",
    "geometric transfer\n",
    "\n",
    "rotaion - 1000 images\n",
    "\n",
    "scale - 1000 images\n",
    "\n",
    "shear - 1000 images\n",
    "\n",
    "combination - 2000 images\n",
    "\n",
    "Suppose we store all the images in the list [1, 2, .., 1000]. 1 represent the image1 and these number are unique. Each image dimension is height, width, channel. For simplicity, I will use 64, 64, 3."
   ]
  },
  {
   "cell_type": "code",
   "execution_count": 61,
   "id": "4485b436",
   "metadata": {},
   "outputs": [
    {
     "name": "stdout",
     "output_type": "stream",
     "text": [
      "(1000,)\n",
      "(64, 64, 3)\n"
     ]
    }
   ],
   "source": [
    "import cv2\n",
    "import matplotlib.pyplot as plt\n",
    "import random\n",
    "\n",
    "IMAGES = np.array([i for i in range(1, 1001)])\n",
    "print(IMAGES.shape)\n",
    "\n",
    "dim = np.zeros((64, 64, 3))\n",
    "print(dim.shape)"
   ]
  },
  {
   "cell_type": "code",
   "execution_count": 46,
   "id": "03f52e6c",
   "metadata": {},
   "outputs": [],
   "source": [
    "img = cv2.imread('dataset/tiny-imagenet-200/train/n01443537/images/n01443537_0.JPEG')\n",
    "cv2.imshow('img', img)\n",
    "cv2.waitKey(0)\n",
    "cv2.destroyAllWindows()"
   ]
  },
  {
   "cell_type": "code",
   "execution_count": 33,
   "id": "84095c24",
   "metadata": {},
   "outputs": [],
   "source": [
    "def rotation(image):\n",
    "    \n",
    "    height, width = image.shape[:2]\n",
    "    \n",
    "    center = (width/2, height/2)\n",
    "    \n",
    "    #randomly select angle between -30  and 30 and only 1 decimal\n",
    "    angle = round(random.uniform(-30, 30), 1)\n",
    "    \n",
    "    rotate_matrix = cv2.getRotationMatrix2D(center=center, angle=angle, scale=1)\n",
    "    \n",
    "    new_image = cv2.warpAffine(src=image, M=rotate_matrix, dsize=(width, height))\n",
    "    \n",
    "    return new_image"
   ]
  },
  {
   "cell_type": "code",
   "execution_count": 24,
   "id": "c9bf2ee0",
   "metadata": {},
   "outputs": [],
   "source": [
    "new_image = rotation(img)\n",
    "cv2.imshow('new img', new_image)\n",
    "cv2.waitKey(0)\n",
    "cv2.destroyAllWindows()"
   ]
  },
  {
   "cell_type": "code",
   "execution_count": 50,
   "id": "db194884",
   "metadata": {},
   "outputs": [],
   "source": [
    "def scaling(image):\n",
    "    \n",
    "    height, width = image.shape[:2]\n",
    "    ratio = round(random.uniform(0.8, 1.2), 2)\n",
    "    n_width = int(ratio * width)\n",
    "    n_height = int(ratio * height)\n",
    "    new_image = cv2.resize(image, (n_width, n_height))\n",
    "    \n",
    "#     print(height, n_height)\n",
    "    return new_image"
   ]
  },
  {
   "cell_type": "code",
   "execution_count": 51,
   "id": "cb16c193",
   "metadata": {},
   "outputs": [
    {
     "name": "stdout",
     "output_type": "stream",
     "text": [
      "64 73\n"
     ]
    }
   ],
   "source": [
    "new_image = scaling(img)\n",
    "cv2.imshow('new img', new_image)\n",
    "cv2.waitKey(0)\n",
    "cv2.destroyAllWindows()"
   ]
  },
  {
   "cell_type": "code",
   "execution_count": 54,
   "id": "8b9e0176",
   "metadata": {},
   "outputs": [],
   "source": [
    "def shear(image):\n",
    "    \n",
    "    height, width = image.shape[:2]\n",
    "    \n",
    "    \n",
    "    # shearing applied to x-axis\n",
    "    Mx = np.float32([[1, 0.5, 0],\n",
    "                     [0, 1, 0],\n",
    "                     [0, 0, 1]])\n",
    "    \n",
    "    # shearing applied to y-axis\n",
    "    My = np.float32([[1, 0, 0],\n",
    "                     [0.5, 1, 0],\n",
    "                     [0, 0, 1]])\n",
    "    \n",
    "    # randomly selecting x or y direction, 1 means x direction and 2 is y direction\n",
    "    \n",
    "    direction = random.choice([1, 2])\n",
    "    \n",
    "    if direction == 1:\n",
    "        \n",
    "        new_image = cv2.warpPerspective(image, Mx, (width, height))\n",
    "    \n",
    "    else:\n",
    "        \n",
    "        new_image = cv2.warpPerspective(image, My, (width, height))\n",
    "    \n",
    "    return new_image\n",
    "    "
   ]
  },
  {
   "cell_type": "code",
   "execution_count": 55,
   "id": "6dcdcf67",
   "metadata": {},
   "outputs": [],
   "source": [
    "new_image = shear(img)\n",
    "cv2.imshow('new img', new_image)\n",
    "cv2.waitKey(0)\n",
    "cv2.destroyAllWindows()"
   ]
  },
  {
   "cell_type": "code",
   "execution_count": 57,
   "id": "d48ae91c",
   "metadata": {},
   "outputs": [],
   "source": [
    "def cshear(image):\n",
    "    \n",
    "    height, width = image.shape[:2]\n",
    "    \n",
    "    \n",
    "    # shearing applied to x-axis\n",
    "    M = np.float32([[1, 0.5, 0],\n",
    "                     [0.5, 1, 0],\n",
    "                     [0, 0, 1]])\n",
    "    \n",
    "        \n",
    "    new_image = cv2.warpPerspective(image, M, (width, height))\n",
    "    \n",
    "    \n",
    "    return new_image\n",
    "    "
   ]
  },
  {
   "cell_type": "code",
   "execution_count": 58,
   "id": "db5fc4cf",
   "metadata": {},
   "outputs": [],
   "source": [
    "new_image = cshear(img)\n",
    "cv2.imshow('new img', new_image)\n",
    "cv2.waitKey(0)\n",
    "cv2.destroyAllWindows()"
   ]
  },
  {
   "cell_type": "markdown",
   "id": "4e231ac7",
   "metadata": {},
   "source": [
    "## Questions 4:  a) Write a complete Keras code for below Deep Learning system (20 points)"
   ]
  },
  {
   "cell_type": "code",
   "execution_count": 84,
   "id": "e0f6b5ba",
   "metadata": {},
   "outputs": [],
   "source": [
    "from tensorflow import keras\n",
    "from tensorflow.keras import layers"
   ]
  },
  {
   "cell_type": "code",
   "execution_count": 85,
   "id": "14fb58b1",
   "metadata": {},
   "outputs": [
    {
     "name": "stdout",
     "output_type": "stream",
     "text": [
      "Model: \"sequential\"\n",
      "_________________________________________________________________\n",
      " Layer (type)                Output Shape              Param #   \n",
      "=================================================================\n",
      " conv2d (Conv2D)             (None, 126, 126, 32)      896       \n",
      "                                                                 \n",
      " max_pooling2d (MaxPooling2D  (None, 63, 63, 32)       0         \n",
      " )                                                               \n",
      "                                                                 \n",
      " conv2d_1 (Conv2D)           (None, 61, 61, 64)        18496     \n",
      "                                                                 \n",
      " conv2d_2 (Conv2D)           (None, 59, 59, 63)        36351     \n",
      "                                                                 \n",
      " max_pooling2d_1 (MaxPooling  (None, 29, 29, 63)       0         \n",
      " 2D)                                                             \n",
      "                                                                 \n",
      " conv2d_3 (Conv2D)           (None, 27, 27, 128)       72704     \n",
      "                                                                 \n",
      " conv2d_4 (Conv2D)           (None, 25, 25, 128)       147584    \n",
      "                                                                 \n",
      " max_pooling2d_2 (MaxPooling  (None, 12, 12, 128)      0         \n",
      " 2D)                                                             \n",
      "                                                                 \n",
      " flatten (Flatten)           (None, 18432)             0         \n",
      "                                                                 \n",
      " dense (Dense)               (None, 128)               2359424   \n",
      "                                                                 \n",
      " dense_1 (Dense)             (None, 2)                 258       \n",
      "                                                                 \n",
      "=================================================================\n",
      "Total params: 2,635,713\n",
      "Trainable params: 2,635,713\n",
      "Non-trainable params: 0\n",
      "_________________________________________________________________\n"
     ]
    }
   ],
   "source": [
    "model = keras.Sequential([\n",
    "            layers.Conv2D(32, (3, 3), activation='relu', input_shape=(128, 128, 3)),\n",
    "            layers.MaxPooling2D(2,2),\n",
    "            layers.Conv2D(64, (3, 3), activation='relu'),\n",
    "            layers.Conv2D(63, (3, 3), activation='relu'),\n",
    "            layers.MaxPooling2D(2, 2),\n",
    "            layers.Conv2D(128, (3, 3), activation='relu'),\n",
    "            layers.Conv2D(128, (3, 3), activation='relu'),\n",
    "            layers.MaxPooling2D(2, 2),\n",
    "            layers.Flatten(),\n",
    "            layers.Dense(128, activation='relu'),\n",
    "            layers.Dense(2, activation='softmax')\n",
    "])\n",
    "\n",
    "model.summary()"
   ]
  },
  {
   "cell_type": "code",
   "execution_count": 86,
   "id": "fd4e46c6",
   "metadata": {},
   "outputs": [],
   "source": [
    "model.compile(loss='categorical_crossentropy', optimizer='sgd', metrics=['accuracy'])"
   ]
  },
  {
   "cell_type": "markdown",
   "id": "363ace11",
   "metadata": {},
   "source": [
    "## Question 5"
   ]
  },
  {
   "cell_type": "code",
   "execution_count": 91,
   "id": "4ed82eb9",
   "metadata": {},
   "outputs": [
    {
     "name": "stdout",
     "output_type": "stream",
     "text": [
      "Sedan\n",
      "precision : 0.7792207792207793\n",
      "Recall : 0.8928571428571429\n",
      "F1 score 0.8321775312066574\n",
      "--------------------\n",
      "--------------------\n",
      "Truck\n",
      "precision : 0.8928571428571429\n",
      "Recall : 0.8333333333333334\n",
      "F1 score 0.8620689655172413\n",
      "--------------------\n",
      "--------------------\n",
      "Van\n",
      "precision : 0.6153846153846154\n",
      "Recall : 0.7339449541284404\n",
      "F1 score 0.6694560669456067\n",
      "--------------------\n",
      "--------------------\n",
      "Bus\n",
      "precision : 0.7936507936507936\n",
      "Recall : 0.78125\n",
      "F1 score 0.7874015748031497\n",
      "--------------------\n",
      "--------------------\n",
      "Motorbike\n",
      "precision : 0.9960159362549801\n",
      "Recall : 0.9960159362549801\n",
      "F1 score 0.9960159362549801\n"
     ]
    }
   ],
   "source": [
    "P_sedan = 120/(120 + 3 + 25 + 5 + 1)\n",
    "P_truck = 100 / (5 + 100 + 1 + 6 + 0)\n",
    "P_van = 80 / (40 + 7 + 80 + 3 + 0)\n",
    "P_bus = 50 / (2 + 8 + 3 + 50 + 0)\n",
    "P_motorbike = 250 / (1 + 0 + 0 + 0 + 250)\n",
    "\n",
    "R_sedan = 150 / (120 + 5 + 40 + 2 + 1)\n",
    "R_truck = 100 / (3 + 100 + 7 + 8 + 2)\n",
    "R_van = 80 / (25 + 1 + 80 + 3 + 0)\n",
    "R_bus = 50 / (5 + 6 + 3 + 50 + 0)\n",
    "R_motorbike = 250 / (1 + 0 + 0 + 0 + 250)\n",
    "\n",
    "F_sedan = 2 * (P_sedan * R_sedan) / (P_sedan + R_sedan)\n",
    "F_truck = 2 * (P_truck * R_truck) / (P_truck + R_truck)\n",
    "F_van = 2 * (P_van * R_van) / (P_van + R_van)\n",
    "F_bus = 2 * (P_bus * R_bus) / (P_bus + R_bus)\n",
    "F_motorbike = 2 * (P_motorbike * R_motorbike) / (P_motorbike + R_motorbike)\n",
    "\n",
    "print('Sedan')\n",
    "print('precision :', P_sedan)\n",
    "print('Recall :', R_sedan)\n",
    "print('F1 score', F_sedan)\n",
    "print('-'* 20)\n",
    "print('-'* 20)\n",
    "print('Truck')\n",
    "print('precision :', P_truck)\n",
    "print('Recall :', R_truck)\n",
    "print('F1 score', F_truck)\n",
    "print('-'* 20)\n",
    "print('-'* 20)\n",
    "print('Van')\n",
    "print('precision :', P_van)\n",
    "print('Recall :', R_van)\n",
    "print('F1 score', F_van)\n",
    "print('-'* 20)\n",
    "print('-'* 20)\n",
    "print('Bus')\n",
    "print('precision :', P_bus)\n",
    "print('Recall :', R_bus)\n",
    "print('F1 score', F_bus)\n",
    "print('-'* 20)\n",
    "print('-'* 20)\n",
    "print('Motorbike')\n",
    "print('precision :', P_motorbike)\n",
    "print('Recall :', R_motorbike)\n",
    "print('F1 score', F_motorbike)"
   ]
  },
  {
   "cell_type": "markdown",
   "id": "fc990349",
   "metadata": {},
   "source": [
    "## Question 5b) Your friend has provided you the vehicle dataset including 500,000 training images, 100,000 validation images, and 100,000 test images with the label. After you train your model, you get the accuracy as follows: training accuracy 99%, validation accuracy 95%, and test accuracy 94%. However, once you deploy the model in the real scenario, you get the accuracy of 50%. What could be the cause of this low accuracy and how to fix it? (5 points)\n",
    "\n"
   ]
  },
  {
   "cell_type": "markdown",
   "id": "4596dedd",
   "metadata": {},
   "source": [
    "From the given accuracy, I believe it is because the distribution is different between real scenario and test data. In other words, dataset is mismatch between real scenario and training data. We can solved it by using data augmentation and adding more read scenario images to the training dataset.\n"
   ]
  },
  {
   "cell_type": "code",
   "execution_count": null,
   "id": "73bb36df",
   "metadata": {},
   "outputs": [],
   "source": []
  }
 ],
 "metadata": {
  "kernelspec": {
   "display_name": "Python 3",
   "language": "python",
   "name": "python3"
  },
  "language_info": {
   "codemirror_mode": {
    "name": "ipython",
    "version": 3
   },
   "file_extension": ".py",
   "mimetype": "text/x-python",
   "name": "python",
   "nbconvert_exporter": "python",
   "pygments_lexer": "ipython3",
   "version": "3.8.3"
  }
 },
 "nbformat": 4,
 "nbformat_minor": 5
}
