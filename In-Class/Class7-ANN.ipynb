{
 "cells": [
  {
   "cell_type": "markdown",
   "id": "7833d59a",
   "metadata": {},
   "source": [
    "# Artificial Neural Network Forward Propagation\n"
   ]
  },
  {
   "cell_type": "code",
   "execution_count": 1,
   "id": "219b3c54",
   "metadata": {},
   "outputs": [],
   "source": [
    "from tensorflow.keras.datasets import mnist\n",
    "from tensorflow import keras\n",
    "from tensorflow.keras import layers\n",
    "import matplotlib.pyplot as plt"
   ]
  },
  {
   "cell_type": "code",
   "execution_count": 2,
   "id": "8fec04fe",
   "metadata": {},
   "outputs": [],
   "source": [
    "# loading train data and test data\n",
    "(train_images_ori, train_labels), (test_images_ori, test_labels) = mnist.load_data()"
   ]
  },
  {
   "cell_type": "code",
   "execution_count": 3,
   "id": "4dc2ddfa",
   "metadata": {},
   "outputs": [
    {
     "name": "stdout",
     "output_type": "stream",
     "text": [
      "Test image shape: (10000, 28, 28)\n",
      "len of test label: 10000\n"
     ]
    }
   ],
   "source": [
    "print('Test image shape:', test_images_ori.shape)\n",
    "print('len of test label:', len(test_labels))"
   ]
  },
  {
   "cell_type": "code",
   "execution_count": 4,
   "id": "b980e68a",
   "metadata": {},
   "outputs": [],
   "source": [
    "train_images = train_images_ori.reshape((60000, 28 * 28))\n",
    "train_images = train_images.astype('float32') / 255\n",
    "test_images = test_images_ori.reshape((10000, 28 * 28))\n",
    "test_images = test_images.astype('float32') / 255"
   ]
  },
  {
   "cell_type": "code",
   "execution_count": 5,
   "id": "ea52df2e",
   "metadata": {},
   "outputs": [],
   "source": [
    "# model\n",
    "\n",
    "model = keras.Sequential([\n",
    "            layers.Dense(512, activation = 'relu'),\n",
    "            layers.Dense(10, activation = 'softmax')\n",
    "            ])\n"
   ]
  },
  {
   "cell_type": "code",
   "execution_count": 6,
   "id": "7fee84d7",
   "metadata": {},
   "outputs": [],
   "source": [
    "model.compile(optimizer = 'rmsprop', loss = 'sparse_categorical_crossentropy',metrics = ['accuracy'])"
   ]
  },
  {
   "cell_type": "code",
   "execution_count": 7,
   "id": "cb021b91",
   "metadata": {},
   "outputs": [
    {
     "name": "stdout",
     "output_type": "stream",
     "text": [
      "Epoch 1/5\n",
      "469/469 [==============================] - 5s 11ms/step - loss: 0.2572 - accuracy: 0.9251\n",
      "Epoch 2/5\n",
      "469/469 [==============================] - 5s 10ms/step - loss: 0.1044 - accuracy: 0.9687\n",
      "Epoch 3/5\n",
      "469/469 [==============================] - 5s 10ms/step - loss: 0.0703 - accuracy: 0.9789\n",
      "Epoch 4/5\n",
      "469/469 [==============================] - 5s 12ms/step - loss: 0.0516 - accuracy: 0.9848\n",
      "Epoch 5/5\n",
      "469/469 [==============================] - 5s 11ms/step - loss: 0.0380 - accuracy: 0.9883\n"
     ]
    },
    {
     "data": {
      "text/plain": [
       "<keras.callbacks.History at 0x1da5979c9a0>"
      ]
     },
     "execution_count": 7,
     "metadata": {},
     "output_type": "execute_result"
    }
   ],
   "source": [
    "model.fit(train_images, train_labels, epochs=5, batch_size=128)"
   ]
  },
  {
   "cell_type": "code",
   "execution_count": 8,
   "id": "7334fc42",
   "metadata": {},
   "outputs": [
    {
     "data": {
      "image/png": "[encoded data removed]",
      "text/plain": [
       "<Figure size 432x288 with 1 Axes>"
      ]
     },
     "metadata": {
      "needs_background": "light"
     },
     "output_type": "display_data"
    }
   ],
   "source": [
    "plt.imshow(test_images_ori[0])\n",
    "plt.show()"
   ]
  },
  {
   "cell_type": "code",
   "execution_count": 9,
   "id": "b082b9c4",
   "metadata": {},
   "outputs": [],
   "source": [
    "test_digits = test_images[0:10]\n",
    "predictions = model.predict(test_digits)"
   ]
  },
  {
   "cell_type": "code",
   "execution_count": 10,
   "id": "6e5de8a6",
   "metadata": {},
   "outputs": [
    {
     "data": {
      "text/plain": [
       "array([1.6696768e-09, 4.4030456e-11, 1.2387975e-06, 3.0361165e-05,\n",
       "       3.3077306e-12, 7.0096258e-09, 2.9384301e-15, 9.9996793e-01,\n",
       "       9.6658091e-08, 3.9012397e-07], dtype=float32)"
      ]
     },
     "execution_count": 10,
     "metadata": {},
     "output_type": "execute_result"
    }
   ],
   "source": [
    "predictions[0]"
   ]
  },
  {
   "cell_type": "code",
   "execution_count": 11,
   "id": "0ace018f",
   "metadata": {},
   "outputs": [
    {
     "data": {
      "text/plain": [
       "0.99996793"
      ]
     },
     "execution_count": 11,
     "metadata": {},
     "output_type": "execute_result"
    }
   ],
   "source": [
    "predictions[0][7]"
   ]
  },
  {
   "cell_type": "code",
   "execution_count": 12,
   "id": "7f54f7e0",
   "metadata": {},
   "outputs": [
    {
     "data": {
      "text/plain": [
       "7"
      ]
     },
     "execution_count": 12,
     "metadata": {},
     "output_type": "execute_result"
    }
   ],
   "source": [
    "predictions[0].argmax()"
   ]
  },
  {
   "cell_type": "code",
   "execution_count": 13,
   "id": "7b945c26",
   "metadata": {},
   "outputs": [
    {
     "name": "stdout",
     "output_type": "stream",
     "text": [
      "313/313 [==============================] - 1s 3ms/step - loss: 0.0641 - accuracy: 0.9796\n",
      "test_acc: 0.9796000123023987\n"
     ]
    }
   ],
   "source": [
    "test_loss, test_acc = model.evaluate(test_images, test_labels)\n",
    "print(f\"test_acc: {test_acc}\")"
   ]
  },
  {
   "cell_type": "markdown",
   "id": "305449f7",
   "metadata": {},
   "source": [
    "## Black Block Model\n",
    "\n",
    "### Forward and backward propagation"
   ]
  },
  {
   "cell_type": "code",
   "execution_count": 14,
   "id": "281e212a",
   "metadata": {},
   "outputs": [],
   "source": [
    "import numpy as np\n",
    "np.random.seed(1)"
   ]
  },
  {
   "cell_type": "code",
   "execution_count": 15,
   "id": "a3cc2a18",
   "metadata": {},
   "outputs": [],
   "source": [
    "def relu(x):\n",
    "    return (x > 0) * x  # return x if x > 0 otherwise return 0\n",
    "\n",
    "def relu2derive(output):\n",
    "    return output > 0   # return 1 for input > 0 otherwise return 0\n",
    "\n"
   ]
  },
  {
   "cell_type": "code",
   "execution_count": 16,
   "id": "ae51193d",
   "metadata": {},
   "outputs": [
    {
     "name": "stdout",
     "output_type": "stream",
     "text": [
      "(2, 2)\n"
     ]
    }
   ],
   "source": [
    "input1 = np.array([[1, 1], [1, 1]])\n",
    "output1 = np.array([[1, 1]]).T\n",
    "alpha = 1\n",
    "hidden_size = 3\n",
    "print(input1.shape)"
   ]
  },
  {
   "cell_type": "code",
   "execution_count": 17,
   "id": "be3ed6af",
   "metadata": {},
   "outputs": [
    {
     "name": "stdout",
     "output_type": "stream",
     "text": [
      "(2, 2)\n"
     ]
    }
   ],
   "source": [
    "weights_0_1 = np.array([[0, 0.3], [0.1, 0.4]])\n",
    "print(weights_0_1.shape)"
   ]
  },
  {
   "cell_type": "code",
   "execution_count": 18,
   "id": "4ec3eadf",
   "metadata": {},
   "outputs": [
    {
     "name": "stdout",
     "output_type": "stream",
     "text": [
      "(2, 2)\n"
     ]
    }
   ],
   "source": [
    "weights_1_2 = np.array([[0.1, -0.3], [0.2, 0.2]])\n",
    "print(weights_1_2.shape)"
   ]
  },
  {
   "cell_type": "code",
   "execution_count": 19,
   "id": "ab3d8d35",
   "metadata": {},
   "outputs": [
    {
     "name": "stdout",
     "output_type": "stream",
     "text": [
      "(2, 1)\n"
     ]
    }
   ],
   "source": [
    "weights_2_3 = np.array([[0.4], [0.3]])\n",
    "print(weights_2_3.shape)"
   ]
  },
  {
   "cell_type": "code",
   "execution_count": 20,
   "id": "c130ea53",
   "metadata": {},
   "outputs": [
    {
     "name": "stdout",
     "output_type": "stream",
     "text": [
      "layer 0 [[1 1]] shape (1, 2)\n",
      "layer 1 [[0.1 0.7]]\n",
      "layer 2 [[0.15 0.11]]\n",
      "output [[0.093]]\n",
      "delta output: [[-0.907]]\n",
      "layer 2 delta [[-0.3628 -0.2721]]\n",
      "layer 1 delta [[ 0.04535 -0.12698]]\n",
      "weight 2_3 [[0.53605]\n",
      " [0.39977]]\n",
      "weight 1_2 [[ 0.13628 -0.27279]\n",
      " [ 0.45396  0.39047]]\n",
      "weight 0_1 [[-0.04535  0.42698]\n",
      " [ 0.05465  0.52698]]\n",
      "layer 0 [[1 1]] shape (1, 2)\n",
      "layer 1 [[0.0093  0.95396]]\n",
      "layer 2 [[0.43432709 0.36995581]]\n",
      "output [[0.38071827]]\n",
      "delta output: [[-0.61928173]]\n",
      "layer 2 delta [[-0.33196597 -0.24757026]]\n",
      "layer 1 delta [[ 0.02229437 -0.24736803]]\n",
      "weight 2_3 [[0.80502083]\n",
      " [0.62887688]]\n",
      "weight 1_2 [[ 0.13936728 -0.2704876 ]\n",
      " [ 0.77064226  0.62664212]]\n",
      "weight 0_1 [[-0.06764437  0.67434803]\n",
      " [ 0.03235563  0.77434803]]\n"
     ]
    }
   ],
   "source": [
    "for iteration in range(1):\n",
    "    output_error = 0\n",
    "    for i in range(len(input1)):\n",
    "        \n",
    "        layer_0 = input1[i:i+1]\n",
    "        print('layer 0', layer_0,'shape', layer_0.shape)\n",
    "        \n",
    "        layer_1 = relu(np.dot(layer_0, weights_0_1))\n",
    "        layer_2 = relu(np.dot(layer_1, weights_1_2))\n",
    "        output = np.dot(layer_2, weights_2_3)\n",
    "        \n",
    "        print('layer 1', layer_1)\n",
    "        print('layer 2', layer_2)\n",
    "        print('output', output)\n",
    "        \n",
    "        output_error += np.sum((output - output1[i:i+1])**2)\n",
    "        output_delta = (output - output1[i:i+1])\n",
    "        print('delta output:', output_delta)\n",
    "        \n",
    "        layer_2_delta = output_delta.dot(weights_2_3.T)*relu2derive(layer_2)\n",
    "        layer_1_delta = layer_2_delta.dot(weights_1_2.T)*relu2derive(layer_1)\n",
    "        \n",
    "        print('layer 2 delta', layer_2_delta)\n",
    "        print('layer 1 delta', layer_1_delta)\n",
    "        \n",
    "        weights_2_3 -= alpha * layer_2.T.dot(output_delta)\n",
    "        weights_1_2 -= alpha * layer_1.T.dot(layer_2_delta)\n",
    "        weights_0_1 -= alpha * layer_0.T.dot(layer_1_delta)\n",
    "        \n",
    "        print('weight 2_3', weights_2_3)\n",
    "        print('weight 1_2', weights_1_2)\n",
    "        print('weight 0_1', weights_0_1)"
   ]
  },
  {
   "cell_type": "code",
   "execution_count": null,
   "id": "14c5b394",
   "metadata": {},
   "outputs": [],
   "source": []
  }
 ],
 "metadata": {
  "kernelspec": {
   "display_name": "Python 3",
   "language": "python",
   "name": "python3"
  },
  "language_info": {
   "codemirror_mode": {
    "name": "ipython",
    "version": 3
   },
   "file_extension": ".py",
   "mimetype": "text/x-python",
   "name": "python",
   "nbconvert_exporter": "python",
   "pygments_lexer": "ipython3",
   "version": "3.8.3"
  }
 },
 "nbformat": 4,
 "nbformat_minor": 5
}
