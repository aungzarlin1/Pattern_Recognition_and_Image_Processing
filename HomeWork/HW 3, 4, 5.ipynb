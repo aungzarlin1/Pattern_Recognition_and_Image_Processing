{
 "cells": [
  {
   "cell_type": "code",
   "execution_count": 1,
   "id": "36963f01",
   "metadata": {},
   "outputs": [],
   "source": [
    "## Hw 3"
   ]
  },
  {
   "cell_type": "code",
   "execution_count": 2,
   "id": "54e67f76",
   "metadata": {},
   "outputs": [],
   "source": [
    "import cv2 as cv\n",
    "import numpy as np\n",
    "\n",
    "img_x = cv.imread('images/x.tif')\n",
    "img_y = cv.imread('images/y.tif')\n",
    "\n",
    "\n",
    "img_and = cv.bitwise_and(img_x,img_y)\n",
    "cv.imshow('AND',img_and)\n",
    "\n",
    "img_or =cv.bitwise_or(img_x,img_y)\n",
    "cv.imshow('OR',img_or)\n",
    "\n",
    "img_xor_00 = cv.bitwise_xor(img_x,img_y)\n",
    "cv.imshow('XOR',img_xor_00)\n",
    "\n",
    "img_not_x = cv.bitwise_not(img_x)\n",
    "cv.imshow('NOT X',img_not_x)\n",
    "\n",
    "img_not_y = cv.bitwise_not(img_y)\n",
    "cv.imshow('NOT Y',img_not_y)\n",
    "\n",
    "img_not_x_and_y = cv.bitwise_and(cv.bitwise_not(img_x),img_y)\n",
    "cv.imshow('NOT X AND Y',img_not_x_and_y)\n",
    "\n",
    "cv.waitKey(0)\n",
    "cv.destroyAllWindows()"
   ]
  },
  {
   "cell_type": "code",
   "execution_count": 3,
   "id": "e4baab87",
   "metadata": {},
   "outputs": [],
   "source": [
    "# Hw 4"
   ]
  },
  {
   "cell_type": "code",
   "execution_count": 4,
   "id": "8de69e8e",
   "metadata": {},
   "outputs": [],
   "source": [
    "import cv2\n",
    "import numpy as np\n",
    "import matplotlib.pyplot as plt\n",
    "\n",
    "img = cv2.imread('images/baby.png', 0)\n",
    "equ = cv2.equalizeHist(img)\n",
    "res = np.hstack((img, equ))\n",
    "cv2.imshow(\"new\", res)\n",
    "\n",
    "cv2.waitKey(0)\n",
    "cv2.destroyAllWindows()"
   ]
  },
  {
   "cell_type": "code",
   "execution_count": 5,
   "id": "e49706e1",
   "metadata": {},
   "outputs": [],
   "source": [
    "import cv2\n",
    "import numpy as np\n",
    "\n",
    "img = cv2.imread('images/salzburg_ori.png',0) # read image and convert into gray scale, altogether.\n",
    "\n",
    "eqhist = cv2.equalizeHist(img) # uses histrogram equalization.\n",
    "\n",
    "stacked_img = np.hstack((img, eqhist)) # stack images, horizontally to compare both pics.\n",
    "\n",
    "cv2.imshow('image', stacked_img)\n",
    "\n",
    "cv2.waitKey(0)\n",
    "cv2.destroyAllWindows()"
   ]
  },
  {
   "cell_type": "code",
   "execution_count": null,
   "id": "fdb2f02c",
   "metadata": {},
   "outputs": [],
   "source": []
  }
 ],
 "metadata": {
  "kernelspec": {
   "display_name": "Python 3",
   "language": "python",
   "name": "python3"
  },
  "language_info": {
   "codemirror_mode": {
    "name": "ipython",
    "version": 3
   },
   "file_extension": ".py",
   "mimetype": "text/x-python",
   "name": "python",
   "nbconvert_exporter": "python",
   "pygments_lexer": "ipython3",
   "version": "3.8.3"
  }
 },
 "nbformat": 4,
 "nbformat_minor": 5
}
