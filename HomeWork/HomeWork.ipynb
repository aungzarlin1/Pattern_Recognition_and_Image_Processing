{
 "cells": [
  {
   "cell_type": "markdown",
   "id": "d1c5575a",
   "metadata": {},
   "source": [
    "Write a word count program (wc) that take a filename as input and will print these three line as the output.\n",
    "\n",
    "- Number of characters (including whitespace)\n",
    "- Number of words (separated by whitespace)\n",
    "- Number of lines"
   ]
  },
  {
   "cell_type": "code",
   "execution_count": 1,
   "id": "dc65cfec",
   "metadata": {},
   "outputs": [
    {
     "name": "stdout",
     "output_type": "stream",
     "text": [
      "Enter a filename: Sample.txt\n",
      "We propose a deep convolutional neural network architecture codenamed Inception that achieves the new state of the art for classification and detection in the ImageNet Large-Scale Visual Recognition Challenge 2014 (ILSVRC14).\n",
      "The main hallmark of this architecture is the improved utilization of the computing resources inside the network.\n",
      "By a carefully crafted design, we increased the depth and width of the network while keeping the computational budget constant.\n",
      "To optimize quality, the architectural decisions were based on the Hebbian principle and the intuition of multi-scale processing.\n",
      "One particular incarnation used in our submission for ILSVRC14 is called GoogLeNet, a 22 layers deep network, the quality of which is assessed in the context of classification and detection.\n"
     ]
    }
   ],
   "source": [
    "file_name = input(\"Enter a filename: \")\n",
    "file = open(file_name, \"r\")\n",
    "f = file.read()\n",
    "print(f)"
   ]
  },
  {
   "cell_type": "code",
   "execution_count": 2,
   "id": "f0342e68",
   "metadata": {},
   "outputs": [
    {
     "name": "stdout",
     "output_type": "stream",
     "text": [
      "Number of words : 116\n"
     ]
    }
   ],
   "source": [
    "word = f.split()\n",
    "num_word = len(word)\n",
    "print(\"Number of words :\", num_word)"
   ]
  },
  {
   "cell_type": "code",
   "execution_count": 3,
   "id": "4654e138",
   "metadata": {},
   "outputs": [
    {
     "name": "stdout",
     "output_type": "stream",
     "text": [
      "Number of char : 788\n"
     ]
    }
   ],
   "source": [
    "char = list(f)\n",
    "num_char = len(char)\n",
    "print(\"Number of char :\", num_char)"
   ]
  },
  {
   "cell_type": "code",
   "execution_count": 4,
   "id": "e09e06f8",
   "metadata": {},
   "outputs": [
    {
     "name": "stdout",
     "output_type": "stream",
     "text": [
      "The number of lines is:  5\n"
     ]
    }
   ],
   "source": [
    "colist = f.split(\"\\n\")\n",
    "print(\"The number of lines is: \",len(colist))"
   ]
  },
  {
   "cell_type": "code",
   "execution_count": 5,
   "id": "437a3b10",
   "metadata": {},
   "outputs": [],
   "source": [
    "file.close()"
   ]
  },
  {
   "cell_type": "code",
   "execution_count": null,
   "id": "fd81779e",
   "metadata": {},
   "outputs": [],
   "source": []
  }
 ],
 "metadata": {
  "kernelspec": {
   "display_name": "Python 3",
   "language": "python",
   "name": "python3"
  },
  "language_info": {
   "codemirror_mode": {
    "name": "ipython",
    "version": 3
   },
   "file_extension": ".py",
   "mimetype": "text/x-python",
   "name": "python",
   "nbconvert_exporter": "python",
   "pygments_lexer": "ipython3",
   "version": "3.8.3"
  }
 },
 "nbformat": 4,
 "nbformat_minor": 5
}
